{
 "cells": [
  {
   "cell_type": "code",
   "execution_count": null,
   "metadata": {},
   "outputs": [],
   "source": [
    "\"\"\"\n",
    "Section 7.2 from Langtangen\n",
    "\"\"\""
   ]
  },
  {
   "cell_type": "code",
   "execution_count": null,
   "metadata": {},
   "outputs": [],
   "source": []
  },
  {
   "cell_type": "code",
   "execution_count": null,
   "metadata": {},
   "outputs": [],
   "source": []
  },
  {
   "cell_type": "code",
   "execution_count": 5,
   "metadata": {},
   "outputs": [],
   "source": [
    "# Bank Account\n",
    "\n",
    "class Account():\n",
    "    def __init__(self, name, account_number, initial_amount):\n",
    "        self.name = name\n",
    "        self.no = account_number\n",
    "        self.balance = initial_amount\n",
    "        \n",
    "    def deposit(self, amount):\n",
    "        self.balance += amount\n",
    "        \n",
    "    def withdraw(self, amount):\n",
    "        self.balance -= amount\n",
    "        \n",
    "    def dump(self):\n",
    "        s = f'{self.name}, {self.no}, balance: {self.balance}'\n",
    "        print(s)"
   ]
  },
  {
   "cell_type": "code",
   "execution_count": 6,
   "metadata": {},
   "outputs": [],
   "source": [
    "a1 = Account('John', 1001, 20000)\n",
    "a2 = Account('Sarah', 1002, 20000)"
   ]
  },
  {
   "cell_type": "code",
   "execution_count": 8,
   "metadata": {},
   "outputs": [],
   "source": [
    "a1.deposit(4100)\n",
    "a2.deposit(3925)\n",
    "a1.withdraw(840)\n",
    "a2.withdraw(42)"
   ]
  },
  {
   "cell_type": "code",
   "execution_count": 9,
   "metadata": {},
   "outputs": [
    {
     "name": "stdout",
     "output_type": "stream",
     "text": [
      "a1's balance: 27360\n"
     ]
    }
   ],
   "source": [
    "print('a1\\'s balance:', a1.balance)"
   ]
  },
  {
   "cell_type": "code",
   "execution_count": 10,
   "metadata": {},
   "outputs": [
    {
     "name": "stdout",
     "output_type": "stream",
     "text": [
      "John, 1001, balance: 27360\n",
      "Sarah, 1002, balance: 23883\n"
     ]
    }
   ],
   "source": [
    "a1.dump()\n",
    "a2.dump()"
   ]
  },
  {
   "cell_type": "code",
   "execution_count": null,
   "metadata": {},
   "outputs": [],
   "source": []
  },
  {
   "cell_type": "code",
   "execution_count": null,
   "metadata": {},
   "outputs": [],
   "source": []
  },
  {
   "cell_type": "code",
   "execution_count": 14,
   "metadata": {},
   "outputs": [],
   "source": [
    "# Phone Book\n",
    "\n",
    "class Person():\n",
    "    def __init__(self, name,\n",
    "                mobile_phone=None,\n",
    "                office_phone=None,\n",
    "                email=None):\n",
    "        self.name = name\n",
    "        self.mobile = mobile_phone\n",
    "        self.office = office_phone\n",
    "        self.email = email\n",
    "        \n",
    "    def add_mobile_phone(self, number):\n",
    "        self.mobile = number\n",
    "    \n",
    "    def add_office_phone(self, number):\n",
    "        self.office = number\n",
    "        \n",
    "    def add_email(self, address):\n",
    "        self.email = address\n",
    "        \n",
    "    def dump(self):\n",
    "        s = self.name + '\\n'\n",
    "        if self.mobile is not None:\n",
    "            s += f'mobile phone: {self.mobile}\\n'\n",
    "        if self.office is not None:\n",
    "            s += f'office phone: {self.office}\\n'\n",
    "        if self.email is not None:\n",
    "            s += f'email address: {self.email}\\n'\n",
    "            \n",
    "        print(s)"
   ]
  },
  {
   "cell_type": "code",
   "execution_count": 18,
   "metadata": {},
   "outputs": [],
   "source": [
    "p1 = Person('John Smith', office_phone='767-828-4444', email='jsmith@email.com')\n",
    "p2 = Person('Amanda Parker', office_phone='767-828-5555', email='amanda_parker@email.com')\n",
    "\n",
    "p1.add_mobile_phone('111-222-3333')\n",
    "\n",
    "phone_book = [p1,p2]"
   ]
  },
  {
   "cell_type": "code",
   "execution_count": 21,
   "metadata": {},
   "outputs": [
    {
     "name": "stdout",
     "output_type": "stream",
     "text": [
      "John Smith\n",
      "mobile phone: 111-222-3333\n",
      "office phone: 767-828-4444\n",
      "email address: jsmith@email.com\n",
      "\n",
      "Amanda Parker\n",
      "office phone: 767-828-5555\n",
      "email address: amanda_parker@email.com\n",
      "\n"
     ]
    }
   ],
   "source": [
    "for person in phone_book:\n",
    "    person.dump()"
   ]
  },
  {
   "cell_type": "code",
   "execution_count": 23,
   "metadata": {},
   "outputs": [
    {
     "name": "stdout",
     "output_type": "stream",
     "text": [
      "Amanda Parker\n",
      "office phone: 767-828-5555\n",
      "email address: amanda_parker@email.com\n",
      "\n",
      "John Smith\n",
      "mobile phone: 111-222-3333\n",
      "office phone: 767-828-4444\n",
      "email address: jsmith@email.com\n",
      "\n"
     ]
    }
   ],
   "source": [
    "#phone book as dictionary with name as key \n",
    "phone_book = {'John': p1, 'Amanada': p2 }\n",
    "for person in sorted(phone_book):\n",
    "    phone_book[person].dump()"
   ]
  },
  {
   "cell_type": "code",
   "execution_count": null,
   "metadata": {},
   "outputs": [],
   "source": []
  },
  {
   "cell_type": "code",
   "execution_count": null,
   "metadata": {},
   "outputs": [],
   "source": []
  },
  {
   "cell_type": "code",
   "execution_count": 27,
   "metadata": {},
   "outputs": [],
   "source": [
    "# Circle\n",
    "\n",
    "from math import pi\n",
    "\n",
    "class Circle():\n",
    "    def __init__(self,x0,y0,r):\n",
    "        self.x0,self.y0,self.r=x0,y0,r\n",
    "        \n",
    "    def area(self):\n",
    "        return pi*self.r**2\n",
    "    \n",
    "    def circumference(self):\n",
    "        return 2*pi*self.r"
   ]
  },
  {
   "cell_type": "code",
   "execution_count": 28,
   "metadata": {},
   "outputs": [],
   "source": [
    "unit_circle = Circle(0,0,1)"
   ]
  },
  {
   "cell_type": "code",
   "execution_count": 30,
   "metadata": {},
   "outputs": [
    {
     "data": {
      "text/plain": [
       "3.141592653589793"
      ]
     },
     "execution_count": 30,
     "metadata": {},
     "output_type": "execute_result"
    }
   ],
   "source": [
    "unit_circle.area()"
   ]
  },
  {
   "cell_type": "code",
   "execution_count": 31,
   "metadata": {},
   "outputs": [
    {
     "data": {
      "text/plain": [
       "6.283185307179586"
      ]
     },
     "execution_count": 31,
     "metadata": {},
     "output_type": "execute_result"
    }
   ],
   "source": [
    "unit_circle.circumference()"
   ]
  },
  {
   "cell_type": "code",
   "execution_count": null,
   "metadata": {},
   "outputs": [],
   "source": []
  }
 ],
 "metadata": {
  "kernelspec": {
   "display_name": "Python 3",
   "language": "python",
   "name": "python3"
  },
  "language_info": {
   "codemirror_mode": {
    "name": "ipython",
    "version": 3
   },
   "file_extension": ".py",
   "mimetype": "text/x-python",
   "name": "python",
   "nbconvert_exporter": "python",
   "pygments_lexer": "ipython3",
   "version": "3.7.3"
  }
 },
 "nbformat": 4,
 "nbformat_minor": 2
}
